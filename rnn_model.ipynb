{
 "cells": [
  {
   "cell_type": "markdown",
   "metadata": {},
   "source": [
    "At first load the dataset using Pandas. We are not interested in the date, therefore, when we load the dataset we can exclude the first column.\n",
    "\n",
    "Once loaded we can easily plot the whole dataset. The code to load and plot the dataset is listed below.\n",
    "\n",
    "Can see an upward trend in the dataset over time."
   ]
  },
  {
   "cell_type": "code",
   "execution_count": 1,
   "metadata": {},
   "outputs": [
    {
     "data": {
      "image/png": "[encoded data removed]",
      "text/plain": [
       "<Figure size 432x288 with 1 Axes>"
      ]
     },
     "metadata": {
      "needs_background": "light"
     },
     "output_type": "display_data"
    }
   ],
   "source": [
    "import pandas\n",
    "import matplotlib.pyplot as plt\n",
    "dataset = pandas.read_csv('airline-passengers.csv', usecols=[1], engine='python')\n",
    "plt.plot(dataset)\n",
    "plt.show()"
   ]
  },
  {
   "cell_type": "markdown",
   "metadata": {},
   "source": [
    "Before we get started, import all of the functions and classes we intend to use."
   ]
  },
  {
   "cell_type": "code",
   "execution_count": 2,
   "metadata": {},
   "outputs": [],
   "source": [
    "import numpy\n",
    "import matplotlib.pyplot as plt\n",
    "import pandas\n",
    "import math\n",
    "from keras.models import Sequential\n",
    "from keras.layers import Dense\n",
    "from keras.layers import LSTM\n",
    "from sklearn.preprocessing import MinMaxScaler\n",
    "from sklearn.metrics import mean_squared_error"
   ]
  },
  {
   "cell_type": "code",
   "execution_count": 3,
   "metadata": {},
   "outputs": [],
   "source": [
    "numpy.random.seed(7)"
   ]
  },
  {
   "cell_type": "markdown",
   "metadata": {},
   "source": [
    "Load the dataset again.\n",
    "\n",
    "LSTMs are sensitive to the scale of the input data, specifically when the sigmoid (default) or tanh activation functions are used. So we have to rescale the data to the range of 0-to-1, also called normalizing."
   ]
  },
  {
   "cell_type": "code",
   "execution_count": 4,
   "metadata": {},
   "outputs": [],
   "source": [
    "dataframe = pandas.read_csv('airline-passengers.csv', usecols=[1], engine='python')\n",
    "dataset = dataframe.values\n",
    "dataset = dataset.astype('float32')"
   ]
  },
  {
   "cell_type": "markdown",
   "metadata": {},
   "source": [
    "We can easily normalize the dataset using the MinMaxScaler.\n",
    "\n",
    "After we model our data and estimate the skill of our model on the training dataset, we need to get an idea of the skill of the model on new unseen data. For a normal classification or regression problem, we would do this using cross validation."
   ]
  },
  {
   "cell_type": "code",
   "execution_count": 5,
   "metadata": {},
   "outputs": [],
   "source": [
    "scaler = MinMaxScaler(feature_range=(0, 1))\n",
    "dataset = scaler.fit_transform(dataset)"
   ]
  },
  {
   "cell_type": "markdown",
   "metadata": {},
   "source": [
    "With time series data, the sequence of values is important. A simple method that we can use is to split the ordered dataset into train and test datasets."
   ]
  },
  {
   "cell_type": "code",
   "execution_count": 6,
   "metadata": {},
   "outputs": [
    {
     "name": "stdout",
     "output_type": "stream",
     "text": [
      "96 48\n"
     ]
    }
   ],
   "source": [
    "train_size = int(len(dataset) * 0.67)\n",
    "test_size = len(dataset) - train_size\n",
    "train, test = dataset[0:train_size,:], dataset[train_size:len(dataset),:]\n",
    "print(len(train), len(test))"
   ]
  },
  {
   "cell_type": "markdown",
   "metadata": {},
   "source": [
    "Now we can define a function to create a new dataset, as described above.\n",
    "\n",
    "The function takes two arguments: the dataset, which is a NumPy array that we want to convert into a dataset, and the look_back, which is the number of previous time steps to use as input variables to predict the next time period — in this case defaulted to 1.\n",
    "\n",
    "This default will create a dataset where X is the number of passengers at a given time (t) and Y is the number of passengers at the next time (t + 1)."
   ]
  },
  {
   "cell_type": "code",
   "execution_count": 7,
   "metadata": {},
   "outputs": [],
   "source": [
    "def create_dataset(dataset, look_back=1):\n",
    "    dataX, dataY = [], []\n",
    "    for i in range(len(dataset)-look_back-1):\n",
    "        a = dataset[i:(i+look_back), 0]\n",
    "        dataX.append(a)\n",
    "        dataY.append(dataset[i + look_back, 0])\n",
    "    return numpy.array(dataX), numpy.array(dataY)"
   ]
  },
  {
   "cell_type": "markdown",
   "metadata": {},
   "source": [
    "use this function to prepare the train and test datasets for modeling."
   ]
  },
  {
   "cell_type": "code",
   "execution_count": 8,
   "metadata": {},
   "outputs": [],
   "source": [
    "look_back = 1\n",
    "trainX, trainY = create_dataset(train, look_back)\n",
    "testX, testY = create_dataset(test, look_back)"
   ]
  },
  {
   "cell_type": "markdown",
   "metadata": {},
   "source": [
    "The LSTM network expects the input data (X) to be provided with a specific array structure in the form of: [samples, time steps, features].\n",
    "\n",
    "We can transform the prepared train and test input data into the expected structure using reshape function."
   ]
  },
  {
   "cell_type": "code",
   "execution_count": 9,
   "metadata": {},
   "outputs": [],
   "source": [
    "trainX = numpy.reshape(trainX, (trainX.shape[0], 1, trainX.shape[1]))\n",
    "testX = numpy.reshape(testX, (testX.shape[0], 1, testX.shape[1]))"
   ]
  },
  {
   "cell_type": "markdown",
   "metadata": {},
   "source": [
    "We are now ready to design and fit our LSTM network for this problem.\n",
    "\n",
    "The network has a visible layer with 1 input, a hidden layer with 4 LSTM blocks or neurons, and an output layer that makes a single value prediction. The default sigmoid activation function is used for the LSTM blocks. The network is trained for 100 epochs and a batch size of 1 is used."
   ]
  },
  {
   "cell_type": "code",
   "execution_count": 10,
   "metadata": {},
   "outputs": [
    {
     "name": "stdout",
     "output_type": "stream",
     "text": [
      "Epoch 1/100\n",
      "94/94 - 1s - loss: 0.0367 - 1s/epoch - 12ms/step\n",
      "Epoch 2/100\n",
      "94/94 - 0s - loss: 0.0179 - 136ms/epoch - 1ms/step\n",
      "Epoch 3/100\n",
      "94/94 - 0s - loss: 0.0140 - 132ms/epoch - 1ms/step\n",
      "Epoch 4/100\n",
      "94/94 - 0s - loss: 0.0128 - 138ms/epoch - 1ms/step\n",
      "Epoch 5/100\n",
      "94/94 - 0s - loss: 0.0118 - 134ms/epoch - 1ms/step\n",
      "Epoch 6/100\n",
      "94/94 - 0s - loss: 0.0109 - 136ms/epoch - 1ms/step\n",
      "Epoch 7/100\n",
      "94/94 - 0s - loss: 0.0100 - 133ms/epoch - 1ms/step\n",
      "Epoch 8/100\n",
      "94/94 - 0s - loss: 0.0089 - 126ms/epoch - 1ms/step\n",
      "Epoch 9/100\n",
      "94/94 - 0s - loss: 0.0078 - 130ms/epoch - 1ms/step\n",
      "Epoch 10/100\n",
      "94/94 - 0s - loss: 0.0068 - 136ms/epoch - 1ms/step\n",
      "Epoch 11/100\n",
      "94/94 - 0s - loss: 0.0059 - 136ms/epoch - 1ms/step\n",
      "Epoch 12/100\n",
      "94/94 - 0s - loss: 0.0050 - 125ms/epoch - 1ms/step\n",
      "Epoch 13/100\n",
      "94/94 - 0s - loss: 0.0042 - 129ms/epoch - 1ms/step\n",
      "Epoch 14/100\n",
      "94/94 - 0s - loss: 0.0035 - 133ms/epoch - 1ms/step\n",
      "Epoch 15/100\n",
      "94/94 - 0s - loss: 0.0030 - 164ms/epoch - 2ms/step\n",
      "Epoch 16/100\n",
      "94/94 - 0s - loss: 0.0027 - 238ms/epoch - 3ms/step\n",
      "Epoch 17/100\n",
      "94/94 - 0s - loss: 0.0025 - 240ms/epoch - 3ms/step\n",
      "Epoch 18/100\n",
      "94/94 - 0s - loss: 0.0022 - 219ms/epoch - 2ms/step\n",
      "Epoch 19/100\n",
      "94/94 - 0s - loss: 0.0022 - 142ms/epoch - 2ms/step\n",
      "Epoch 20/100\n",
      "94/94 - 0s - loss: 0.0021 - 145ms/epoch - 2ms/step\n",
      "Epoch 21/100\n",
      "94/94 - 0s - loss: 0.0020 - 138ms/epoch - 1ms/step\n",
      "Epoch 22/100\n",
      "94/94 - 0s - loss: 0.0020 - 135ms/epoch - 1ms/step\n",
      "Epoch 23/100\n",
      "94/94 - 0s - loss: 0.0019 - 134ms/epoch - 1ms/step\n",
      "Epoch 24/100\n",
      "94/94 - 0s - loss: 0.0020 - 136ms/epoch - 1ms/step\n",
      "Epoch 25/100\n",
      "94/94 - 0s - loss: 0.0020 - 134ms/epoch - 1ms/step\n",
      "Epoch 26/100\n",
      "94/94 - 0s - loss: 0.0020 - 127ms/epoch - 1ms/step\n",
      "Epoch 27/100\n",
      "94/94 - 0s - loss: 0.0020 - 130ms/epoch - 1ms/step\n",
      "Epoch 28/100\n",
      "94/94 - 0s - loss: 0.0020 - 164ms/epoch - 2ms/step\n",
      "Epoch 29/100\n",
      "94/94 - 0s - loss: 0.0020 - 134ms/epoch - 1ms/step\n",
      "Epoch 30/100\n",
      "94/94 - 0s - loss: 0.0020 - 131ms/epoch - 1ms/step\n",
      "Epoch 31/100\n",
      "94/94 - 0s - loss: 0.0020 - 137ms/epoch - 1ms/step\n",
      "Epoch 32/100\n",
      "94/94 - 0s - loss: 0.0021 - 135ms/epoch - 1ms/step\n",
      "Epoch 33/100\n",
      "94/94 - 0s - loss: 0.0020 - 190ms/epoch - 2ms/step\n",
      "Epoch 34/100\n",
      "94/94 - 0s - loss: 0.0020 - 294ms/epoch - 3ms/step\n",
      "Epoch 35/100\n",
      "94/94 - 0s - loss: 0.0020 - 136ms/epoch - 1ms/step\n",
      "Epoch 36/100\n",
      "94/94 - 0s - loss: 0.0020 - 169ms/epoch - 2ms/step\n",
      "Epoch 37/100\n",
      "94/94 - 0s - loss: 0.0020 - 175ms/epoch - 2ms/step\n",
      "Epoch 38/100\n",
      "94/94 - 0s - loss: 0.0020 - 140ms/epoch - 1ms/step\n",
      "Epoch 39/100\n",
      "94/94 - 0s - loss: 0.0020 - 177ms/epoch - 2ms/step\n",
      "Epoch 40/100\n",
      "94/94 - 0s - loss: 0.0020 - 155ms/epoch - 2ms/step\n",
      "Epoch 41/100\n",
      "94/94 - 0s - loss: 0.0020 - 141ms/epoch - 1ms/step\n",
      "Epoch 42/100\n",
      "94/94 - 0s - loss: 0.0020 - 141ms/epoch - 2ms/step\n",
      "Epoch 43/100\n",
      "94/94 - 0s - loss: 0.0020 - 135ms/epoch - 1ms/step\n",
      "Epoch 44/100\n",
      "94/94 - 0s - loss: 0.0020 - 268ms/epoch - 3ms/step\n",
      "Epoch 45/100\n",
      "94/94 - 0s - loss: 0.0020 - 298ms/epoch - 3ms/step\n",
      "Epoch 46/100\n",
      "94/94 - 0s - loss: 0.0020 - 237ms/epoch - 3ms/step\n",
      "Epoch 47/100\n",
      "94/94 - 0s - loss: 0.0020 - 166ms/epoch - 2ms/step\n",
      "Epoch 48/100\n",
      "94/94 - 0s - loss: 0.0020 - 138ms/epoch - 1ms/step\n",
      "Epoch 49/100\n",
      "94/94 - 0s - loss: 0.0021 - 148ms/epoch - 2ms/step\n",
      "Epoch 50/100\n",
      "94/94 - 0s - loss: 0.0020 - 146ms/epoch - 2ms/step\n",
      "Epoch 51/100\n",
      "94/94 - 0s - loss: 0.0020 - 137ms/epoch - 1ms/step\n",
      "Epoch 52/100\n",
      "94/94 - 0s - loss: 0.0020 - 219ms/epoch - 2ms/step\n",
      "Epoch 53/100\n",
      "94/94 - 0s - loss: 0.0020 - 142ms/epoch - 2ms/step\n",
      "Epoch 54/100\n",
      "94/94 - 0s - loss: 0.0020 - 141ms/epoch - 1ms/step\n",
      "Epoch 55/100\n",
      "94/94 - 0s - loss: 0.0020 - 139ms/epoch - 1ms/step\n",
      "Epoch 56/100\n",
      "94/94 - 0s - loss: 0.0020 - 138ms/epoch - 1ms/step\n",
      "Epoch 57/100\n",
      "94/94 - 0s - loss: 0.0020 - 128ms/epoch - 1ms/step\n",
      "Epoch 58/100\n",
      "94/94 - 0s - loss: 0.0019 - 138ms/epoch - 1ms/step\n",
      "Epoch 59/100\n",
      "94/94 - 0s - loss: 0.0021 - 125ms/epoch - 1ms/step\n",
      "Epoch 60/100\n",
      "94/94 - 0s - loss: 0.0020 - 128ms/epoch - 1ms/step\n",
      "Epoch 61/100\n",
      "94/94 - 0s - loss: 0.0021 - 134ms/epoch - 1ms/step\n",
      "Epoch 62/100\n",
      "94/94 - 0s - loss: 0.0020 - 147ms/epoch - 2ms/step\n",
      "Epoch 63/100\n",
      "94/94 - 0s - loss: 0.0020 - 136ms/epoch - 1ms/step\n",
      "Epoch 64/100\n",
      "94/94 - 0s - loss: 0.0020 - 129ms/epoch - 1ms/step\n",
      "Epoch 65/100\n",
      "94/94 - 0s - loss: 0.0019 - 128ms/epoch - 1ms/step\n",
      "Epoch 66/100\n",
      "94/94 - 0s - loss: 0.0020 - 130ms/epoch - 1ms/step\n",
      "Epoch 67/100\n",
      "94/94 - 0s - loss: 0.0020 - 139ms/epoch - 1ms/step\n",
      "Epoch 68/100\n",
      "94/94 - 0s - loss: 0.0020 - 137ms/epoch - 1ms/step\n",
      "Epoch 69/100\n",
      "94/94 - 0s - loss: 0.0020 - 141ms/epoch - 1ms/step\n",
      "Epoch 70/100\n",
      "94/94 - 0s - loss: 0.0020 - 133ms/epoch - 1ms/step\n",
      "Epoch 71/100\n",
      "94/94 - 0s - loss: 0.0021 - 144ms/epoch - 2ms/step\n",
      "Epoch 72/100\n",
      "94/94 - 0s - loss: 0.0020 - 139ms/epoch - 1ms/step\n",
      "Epoch 73/100\n",
      "94/94 - 0s - loss: 0.0020 - 142ms/epoch - 2ms/step\n",
      "Epoch 74/100\n",
      "94/94 - 0s - loss: 0.0020 - 140ms/epoch - 1ms/step\n",
      "Epoch 75/100\n",
      "94/94 - 0s - loss: 0.0020 - 146ms/epoch - 2ms/step\n",
      "Epoch 76/100\n",
      "94/94 - 0s - loss: 0.0020 - 131ms/epoch - 1ms/step\n",
      "Epoch 77/100\n",
      "94/94 - 0s - loss: 0.0020 - 141ms/epoch - 2ms/step\n",
      "Epoch 78/100\n",
      "94/94 - 0s - loss: 0.0020 - 137ms/epoch - 1ms/step\n",
      "Epoch 79/100\n",
      "94/94 - 0s - loss: 0.0020 - 140ms/epoch - 1ms/step\n",
      "Epoch 80/100\n",
      "94/94 - 0s - loss: 0.0020 - 142ms/epoch - 2ms/step\n",
      "Epoch 81/100\n",
      "94/94 - 0s - loss: 0.0020 - 144ms/epoch - 2ms/step\n",
      "Epoch 82/100\n",
      "94/94 - 0s - loss: 0.0020 - 140ms/epoch - 1ms/step\n",
      "Epoch 83/100\n",
      "94/94 - 0s - loss: 0.0020 - 137ms/epoch - 1ms/step\n",
      "Epoch 84/100\n",
      "94/94 - 0s - loss: 0.0020 - 142ms/epoch - 2ms/step\n",
      "Epoch 85/100\n",
      "94/94 - 0s - loss: 0.0020 - 137ms/epoch - 1ms/step\n",
      "Epoch 86/100\n",
      "94/94 - 0s - loss: 0.0020 - 136ms/epoch - 1ms/step\n",
      "Epoch 87/100\n",
      "94/94 - 0s - loss: 0.0020 - 141ms/epoch - 2ms/step\n",
      "Epoch 88/100\n",
      "94/94 - 0s - loss: 0.0019 - 140ms/epoch - 1ms/step\n",
      "Epoch 89/100\n",
      "94/94 - 0s - loss: 0.0020 - 136ms/epoch - 1ms/step\n",
      "Epoch 90/100\n",
      "94/94 - 0s - loss: 0.0020 - 140ms/epoch - 1ms/step\n",
      "Epoch 91/100\n",
      "94/94 - 0s - loss: 0.0020 - 141ms/epoch - 1ms/step\n",
      "Epoch 92/100\n",
      "94/94 - 0s - loss: 0.0020 - 132ms/epoch - 1ms/step\n",
      "Epoch 93/100\n",
      "94/94 - 0s - loss: 0.0020 - 133ms/epoch - 1ms/step\n",
      "Epoch 94/100\n",
      "94/94 - 0s - loss: 0.0020 - 131ms/epoch - 1ms/step\n",
      "Epoch 95/100\n",
      "94/94 - 0s - loss: 0.0020 - 130ms/epoch - 1ms/step\n",
      "Epoch 96/100\n",
      "94/94 - 0s - loss: 0.0020 - 130ms/epoch - 1ms/step\n",
      "Epoch 97/100\n",
      "94/94 - 0s - loss: 0.0020 - 128ms/epoch - 1ms/step\n",
      "Epoch 98/100\n",
      "94/94 - 0s - loss: 0.0020 - 135ms/epoch - 1ms/step\n",
      "Epoch 99/100\n",
      "94/94 - 0s - loss: 0.0020 - 140ms/epoch - 1ms/step\n",
      "Epoch 100/100\n",
      "94/94 - 0s - loss: 0.0020 - 133ms/epoch - 1ms/step\n"
     ]
    },
    {
     "data": {
      "text/plain": [
       "<keras.callbacks.History at 0x2412d382ee0>"
      ]
     },
     "execution_count": 10,
     "metadata": {},
     "output_type": "execute_result"
    }
   ],
   "source": [
    "model = Sequential()\n",
    "model.add(LSTM(4, input_shape=(1, look_back)))\n",
    "model.add(Dense(1))\n",
    "model.compile(loss='mean_squared_error', optimizer='adam')\n",
    "model.fit(trainX, trainY, epochs=100, batch_size=1, verbose=2)"
   ]
  },
  {
   "cell_type": "markdown",
   "metadata": {},
   "source": [
    "Once the model is fit, we can estimate the performance of the model on the train and test datasets. This will give us a point of comparison for new models."
   ]
  },
  {
   "cell_type": "code",
   "execution_count": 11,
   "metadata": {},
   "outputs": [
    {
     "name": "stdout",
     "output_type": "stream",
     "text": [
      "Train Score: 22.72 RMSE\n",
      "Test Score: 50.01 RMSE\n"
     ]
    }
   ],
   "source": [
    "trainPredict = model.predict(trainX)\n",
    "testPredict = model.predict(testX)\n",
    "trainPredict = scaler.inverse_transform(trainPredict)\n",
    "trainY = scaler.inverse_transform([trainY])\n",
    "testPredict = scaler.inverse_transform(testPredict)\n",
    "testY = scaler.inverse_transform([testY])\n",
    "trainScore = math.sqrt(mean_squared_error(trainY[0], trainPredict[:,0]))\n",
    "print('Train Score: %.2f RMSE' % (trainScore))\n",
    "testScore = math.sqrt(mean_squared_error(testY[0], testPredict[:,0]))\n",
    "print('Test Score: %.2f RMSE' % (testScore))"
   ]
  },
  {
   "cell_type": "markdown",
   "metadata": {},
   "source": [
    "Finally, we can generate predictions using the model for both the train and test dataset to get a visual indication of the skill of the model."
   ]
  },
  {
   "cell_type": "code",
   "execution_count": 12,
   "metadata": {},
   "outputs": [
    {
     "data": {
      "image/png": "[encoded data removed]",
      "text/plain": [
       "<Figure size 432x288 with 1 Axes>"
      ]
     },
     "metadata": {
      "needs_background": "light"
     },
     "output_type": "display_data"
    }
   ],
   "source": [
    "trainPredictPlot = numpy.empty_like(dataset)\n",
    "trainPredictPlot[:, :] = numpy.nan\n",
    "trainPredictPlot[look_back:len(trainPredict)+look_back, :] = trainPredict\n",
    "testPredictPlot = numpy.empty_like(dataset)\n",
    "testPredictPlot[:, :] = numpy.nan\n",
    "testPredictPlot[len(trainPredict)+(look_back*2)+1:len(dataset)-1, :] = testPredict\n",
    "plt.plot(scaler.inverse_transform(dataset))\n",
    "plt.plot(trainPredictPlot)\n",
    "plt.plot(testPredictPlot)\n",
    "plt.show()"
   ]
  }
 ],
 "metadata": {
  "kernelspec": {
   "display_name": "Python 3",
   "language": "python",
   "name": "python3"
  },
  "language_info": {
   "codemirror_mode": {
    "name": "ipython",
    "version": 3
   },
   "file_extension": ".py",
   "mimetype": "text/x-python",
   "name": "python",
   "nbconvert_exporter": "python",
   "pygments_lexer": "ipython3",
   "version": "3.8.5"
  }
 },
 "nbformat": 4,
 "nbformat_minor": 4
}
